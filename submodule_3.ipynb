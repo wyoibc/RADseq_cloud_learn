{
 "cells": [
  {
   "cell_type": "markdown",
   "id": "dac6104a-3e1d-4bf0-85d0-79ff02ec9e4c",
   "metadata": {},
   "source": [
    "# Phylogenetic inference\n",
    "\n",
    "Next, we'll make a couple quick phylogenetic trees of our samples from the ipyrad assembly. We'll use two different programs that have different theoretical underpinnings: IQ-TREE and SVDQuartets. IQ-TREE is a maximum likelhood method for estimating phylogenies on concatentated alignments. Most models in IQ-TREE and similar maximum likelihood and Bayesian phylogeny programs assume that all sites in an alignment share a single underlying tree. This assumption may be broken for many reasons, including incomplete lineage sorting and gene flow. Gene flow is still notoriously hard to detect and adequately model in phylogenetic inference, but many programs now exist that are robust to variation in phylogenetic signal across sites/genes caused by incomplete lineage sorting.\n",
    "\n",
    "SVDQuartets is one such method. SVDQuartets uses a quartet approach that is statistically consistent with the multi-species coalescent without the computational burden of explicitly modeling the multi-spoecies coalescent process.\n",
    "\n",
    "A full discussion of the performance of these programs in different scenarios is beyong the scope of this tutorial, but if your research involves phylogenetic inference, we highly recommend that you do some deeper reading.\n",
    "\n",
    "\n",
    "\n",
    "<br>\n",
    "\n",
    "## IQ-TREE\n",
    "\n",
    "IQ-TREE is a very commonly used and very easy to use program for generating maximum likelihood phylogenies. We'll start with this.\n"
   ]
  },
  {
   "cell_type": "markdown",
   "id": "c2b32bed-222a-4595-998d-21525b595068",
   "metadata": {},
   "source": [
    "The programs that we need for this are already in the container we've been using, but if you need to use them in other contexts you can download them at these links: [PAUP](https://paup.phylosolutions.com/get-paup/) and [IQtree](http://www.iqtree.org/#download)\n",
    "\n",
    "\n",
    "If you did not run through the previous tutorial or are running this tutorial from a fresh instance, you can download the ipyrad output we provide in the \"radseq_cloud\" Google bucket. Only uncomment and run these next lines if you want to download the ipyrad assembly."
   ]
  },
  {
   "cell_type": "code",
   "execution_count": null,
   "id": "de77941a-6ebb-4d7d-96f5-ff9199a04022",
   "metadata": {
    "tags": []
   },
   "outputs": [],
   "source": [
    "#! gsutil -m cp -r gs://radseq_cloud/ .\n",
    "#! mkdir -p ./ipyrad_out/ruber_reduced_denovo_outfiles/\n",
    "#! cp ./radseq_cloud/ruber-ipyrad-out/* ./ipyrad_out/ruber_reduced_denovo_outfiles/"
   ]
  },
  {
   "cell_type": "markdown",
   "id": "013bb47c-4835-47bf-b1b6-694919ab0fce",
   "metadata": {},
   "source": [
    "It's very easy to run, we mostly just need to point iqtree to the input file, which we'll set as the phylip-formatted output from ipyrad, the `.phy` file. \n",
    "\n",
    "\n",
    "We'll set up our input and output paths as variables so that these can easily be changed and we shouldn't need to change much in the actual program call for different datasets, just these variables.\n",
    "\n",
    "`INFILE` will be the name and path to the input file\n",
    "`OUTFIX` will the be the prefix that gets prepended to each output file.\n",
    "`outdir` is the directory that we want all output to go into.\n",
    "\n",
    "\n",
    " Options that we'll set in the program call include:\n",
    "\n",
    "`-s $INFILE` sets the input sequence file.\n",
    "\n",
    "`-m MFP` which instead of specifying a model of evolution, tells IQTree to use ModelFinderPlus to find the best model of sequence evolution.\n",
    "\n",
    "`-T auto` tells IQTree to automatically determine the best number of threads to use, within some maximum we specify based on what we've allocated.\n",
    "\n",
    "`--prefix $OUTFIX` sets the prefix for our output to what we define in out `OUTFIX` bash variable.\n",
    "\n",
    "`-B 1000` tells IQTree to use 1000 rapid bootstraps for assessing support.\n",
    "\n",
    "`-alrt 1000` uses 1000 bootstrap replicates for SH-aLRT calculation (a likelihood-based metric of branch support).\n",
    "\n",
    "`-ntmax 12` sets the maximum number of threads to use, this should not exceeed the number of cores in your instance.\n"
   ]
  },
  {
   "cell_type": "code",
   "execution_count": null,
   "id": "04bb5f9d-04fe-43f9-adfb-0b77e5eae2e5",
   "metadata": {
    "tags": []
   },
   "outputs": [],
   "source": [
    "import os\n",
    "\n",
    "# set up the input file, outfile prefix, and output directory\n",
    "os.environ[\"INFILE\"] = \"/home/jupyter/RADseq_cloud_learn/ipyrad_out/ruber_reduced_denovo_outfiles/ruber_reduced_denovo.phy\"\n",
    "os.environ[\"OUTFIX\"] = \"ruber\"\n",
    "outdir = \"/home/jupyter/RADseq_cloud_learn/iqtree_out\""
   ]
  },
  {
   "cell_type": "code",
   "execution_count": null,
   "id": "9afea247-7d1e-4c3b-a2f4-8e1fc9a55a11",
   "metadata": {
    "tags": []
   },
   "outputs": [],
   "source": [
    "os.makedirs(outdir, exist_ok=True) # create the output directory if it doesn't already exist\n",
    "os.chdir(outdir)"
   ]
  },
  {
   "cell_type": "code",
   "execution_count": null,
   "id": "61323870-53fd-4586-8c49-468eb9fd7702",
   "metadata": {
    "tags": []
   },
   "outputs": [],
   "source": [
    "## Execute iqtree\n",
    "\n",
    "\n",
    "! iqtree2 -s $INFILE -m MFP -T auto --prefix $OUTFIX -B 1000 -alrt 1000 -nt AUTO -ntmax 16"
   ]
  },
  {
   "cell_type": "markdown",
   "id": "912a2da8-2f7f-4a49-87ab-21cdbcc7dbee",
   "metadata": {},
   "source": [
    "You may see a bunch of \"likelihood is underflown\" warnings, these aren't ideal, but the tree we get is reasonable even with these, so we'll ignore them for now.\n",
    "\n",
    "If IQ-TREE runs sucessfully, you should see something that ends like this:\n",
    "\n",
    "\n",
    "<img src=\"images/IQ_end.png\" width=40% />\n",
    "\n",
    "and your output directory should end up with various files, most importantly `ruber.treefile`. We'll visualize the tree you estimated in the R in the next tutorial.\n",
    "\n",
    "\n",
    "\n",
    "<br>\n",
    "<br>\n",
    "<br>\n"
   ]
  },
  {
   "cell_type": "markdown",
   "id": "4c00772e-f870-4f8e-9449-db4d6255c69f",
   "metadata": {},
   "source": [
    "## SVDQuartets\n",
    "\n",
    "\n",
    "SVDQuartets is a quartet-based method that is designed to work on SNPs to create species trees, but it can also be used with full concatenated alignments to generate trees of indiviuals like we've done with IQTree.\n",
    "\n",
    "It is somewhat more involved to set up, and we'll again set it up with a bunch of bash variables.\n",
    "\n",
    "What we'll do is run a single search for the best tree, save it, then run a search that includes bootstrapping and save those trees. Later, in R, we'll plot the bootstraps onto the best tree. Note that if you run a bootstrap analysis and just plot the tree that comes out from that with bootstap values at nodes, the bootstraps will be plotted on a consensus of bootstrap trees, not the tree that has the highest likelihood onyour actual data. I consider this to be highly undesirable.\n",
    "\n",
    "### Edit the nexus file\n",
    "\n",
    "You will need to manually edit the nexus file created by ipyrad to create a nexus file that SVDQuartets/PAUP will correctly read in. The character sets specified in the file we got from ipyrad will cause issues, and so we need to delete them. \n",
    "\n",
    "Use the editor to make a copy of `ruber_reduced_denovo.nex` as `ruber_reduced_denovoPAUP.nex` by right clicking the former, clicking \"Duplicate\" then right clicking the new duplicate and selecting \"Rename\". Open `ruber_reduced_denovoPAUP.nex` and delete the line `BEGIN SETS;` \n",
    "\n",
    "\n",
    "<img src=\"images/start_sets.png\" width=30% />\n",
    "\n",
    "\n",
    "all of the lines that begin `charset` and the `END;` that marks the end of the charsets block\n",
    "\n",
    "<img src=\"images/end_sets.png\" width=30% />\n",
    "\n",
    "\n",
    "\n",
    "Note that there are other `end;` statements in the nexus file that you do not want to delete. The end of your Nexus file should look like this after deleting the charsets block:\n",
    " \n",
    "<img src=\"images/no_charsets.png\" width=40% />\n",
    " \n",
    "\n",
    "\n",
    "\n",
    "\n",
    "<br>\n",
    "\n",
    "Once that is done, you can proceed. We will set this up to use variables to specify the input, output, and some options for SVDQuartets so that in most cases, you should not need to edit anything in the second part of this code block. Note, however, that there are some options that we have defined in the program call, and in some cases you may want to change these."
   ]
  },
  {
   "cell_type": "markdown",
   "id": "225f19d6-a13b-4e82-85f8-d54910959db1",
   "metadata": {},
   "source": [
    "You can also do this programatically using a sed one liner. Be sure to modify the path depending on if you ran ipyrad or merely copied the inputs in. "
   ]
  },
  {
   "cell_type": "code",
   "execution_count": null,
   "id": "61b832f4-8a11-469c-81ad-cc2581bf298f",
   "metadata": {
    "tags": []
   },
   "outputs": [],
   "source": [
    "! sed '/BEGIN SETS;/,/^END;/d' /home/jupyter/RADseq_cloud_learn/radseq_cloud/ruber-ipyrad-out/ruber_reduced_denovo.nex > /home/jupyter/RADseq_cloud_learn/radseq_cloud/ruber-ipyrad-out/ruber_reduced_denovoPAUP.nex"
   ]
  },
  {
   "cell_type": "code",
   "execution_count": null,
   "id": "17dfafba-e5c7-42c5-867a-aacc4873f404",
   "metadata": {
    "tags": []
   },
   "outputs": [],
   "source": [
    "%%bash\n",
    "PAUP=\"/usr/bin/paup4\" # set up PAUP path\n",
    "OUTDIR=\"/home/jupyter/RADseq_cloud_learn/svdq_out\"\n",
    "\n",
    "\n",
    "#define  variables for the PAUPblock\n",
    "filebname=\"ruber_reduced_denovo\" #basename for all produced files\n",
    "# double check that you have this path\n",
    "infile=\"/home/jupyter/RADseq_cloud_learn/radseq_cloud/ruber-ipyrad-out/ruber_reduced_denovoPAUP.nex\" #name of input nexus file; can give a path so the input files don't have to be part of the working directory\n",
    "nthreads=16 #number of threads to use\n",
    "nreps=200 #number of replicates for bootstrapping\n",
    "\n",
    "\n",
    "\n",
    "################################################################################################################################################################\n",
    "################################################################################################################################################################\n",
    "####    Run based on the parameters set above\n",
    "################################################################################################################################################################\n",
    "################################################################################################################################################################\n",
    "\n",
    "\n",
    "#change working directory to where your output files will go\n",
    "mkdir -p $OUTDIR\n",
    "cd $OUTDIR\n",
    "\n",
    "\n",
    "cat <<EOF > $filebname.paup.txt\n",
    "Begin paup;\n",
    "set autoclose=yes warntree=no warnreset=no flock=no;\n",
    "log start file=$filebname.log ;\n",
    "execute $infile;\n",
    "svdQuartets evalQuartets=all showScores=no ambigs=distribute bootstrap=no nthreads=$nthreads;\n",
    "savetrees file=$filebname.besttree.tre;\n",
    "svdQuartets evalQuartets=all showScores=no ambigs=distribute bootstrap=standard nreps=$nreps nthreads=$nthreads treefile=$filebname.svdqboots.tre;  \n",
    "quit; \n",
    "end;\n",
    "EOF\n",
    "\n",
    "$PAUP $filebname.paup.txt #execute your new paup block file\n",
    "\n",
    "\n",
    "\n"
   ]
  },
  {
   "cell_type": "markdown",
   "id": "b3d2b4f5-a79c-40d9-9b6d-d7add4284282",
   "metadata": {},
   "source": [
    "If SVDQuartets runs sucessfully, your output directory should end up with various files, most importantly `ruber_reduced_denovo.svdqboots.tre` and `ruber_reduced_denovo.besttree.tre`. You should also see a text representation of the tree that was inferred. We'll visualize the tree you estimated in the R in the next tutorial."
   ]
  }
 ],
 "metadata": {
  "kernelspec": {
   "display_name": "Python 3 (ipykernel) (Local)",
   "language": "python",
   "name": "micromamba-base-py"
  },
  "language_info": {
   "codemirror_mode": {
    "name": "ipython",
    "version": 3
   },
   "file_extension": ".py",
   "mimetype": "text/x-python",
   "name": "python",
   "nbconvert_exporter": "python",
   "pygments_lexer": "ipython3",
   "version": "3.10.15"
  }
 },
 "nbformat": 4,
 "nbformat_minor": 5
}
