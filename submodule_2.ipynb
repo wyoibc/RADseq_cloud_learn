{
 "cells": [
  {
   "cell_type": "markdown",
   "id": "4636b016-17d4-4d1f-ba76-ed90df2cabef",
   "metadata": {},
   "source": [
    "# Population structure in R\n",
    "\n",
    "\n",
    "In the last module, submodule 1, we started with an ipyrad tutorial to process RADseq data from the red diamond rattlesnake (Crotalus ruber). We assembled the data from raw reads into aligned sequences, generating files that contain SNPs (single nucleotide polymorphisms) or loci on a common coordinate system for each individual sample. This alignment enables us to make inferences based on variation across samples. In this module, we'll perform basic population genetic analyses to examine population structure, running all analyses in R."
   ]
  },
  {
   "cell_type": "markdown",
   "id": "fbe16380-147e-4e0b-9892-c9377bbb4399",
   "metadata": {},
   "source": [
    "## Setup\n",
    "\n",
    "### Data download\n",
    "\n",
    "If you successfully ran through the previous tutorial (\"ipyrad_tutorial.ipynb\") in the same Google Cloud instance that you are running this notebook from, then you should have all necessary files to start this notebook.\n",
    "\n",
    "\n",
    "If you did not run through the previous tutorial or are running this tutorial from a fresh instance, you can download the ipyrad output we provide in the \"radseq_cloud\" Google bucket. Only uncomment and run these next lines if you want to download the ipyrad assembly."
   ]
  },
  {
   "cell_type": "code",
   "execution_count": null,
   "id": "6b519fa1-0a02-46ee-946b-30f8f1afd0e5",
   "metadata": {
    "tags": []
   },
   "outputs": [],
   "source": [
    "system(\"gsutil -m cp -r gs://radseq_cloud/ .\", intern = TRUE)\n",
    "system(\"mkdir -p ./ipyrad_out/ruber_reduced_denovo_outfiles/\")\n",
    "system(\"cp ./radseq_cloud/ruber-ipyrad-out/* ipyrad_out/ruber_reduced_denovo_outfiles/\", intern = TRUE)"
   ]
  },
  {
   "cell_type": "markdown",
   "id": "0c573abc-133e-46f2-abfd-df72b82dc647",
   "metadata": {},
   "source": [
    "### Package installs\n",
    "\n",
    "Because we are using a container that already has all of our necessary R packages installed, we won't install any packages. If you want to run the following code in a different context, you'll need to uncomment and run the following lines. It may take several minutes to install all of these packages."
   ]
  },
  {
   "cell_type": "code",
   "execution_count": null,
   "id": "4ac14dac-57f9-4362-8a4b-d686b2ed4fbc",
   "metadata": {},
   "outputs": [],
   "source": [
    "# install.packages(c(\"adegenet\", \"plotrix\", \"mapdata\", \"BiocManager\", \"vcfR\", \"fossil\", \"scatterpie\", \"mapproj\", \"MASS\"))\n",
    "# BiocManager::install(\"LEA\")"
   ]
  },
  {
   "cell_type": "markdown",
   "id": "e51f4f50-7fe1-40d9-98b6-56c742b6997f",
   "metadata": {},
   "source": [
    "From our container, or once you have installed packages if not using the container, we can load up the packages:"
   ]
  },
  {
   "cell_type": "code",
   "execution_count": null,
   "id": "00ad019a-0183-4608-a04f-7b4799db08ef",
   "metadata": {
    "tags": []
   },
   "outputs": [],
   "source": [
    "# Load necessary packages\n",
    "library(vcfR)\n",
    "library(adegenet)\n",
    "library(LEA)\n",
    "library(mapdata)\n",
    "library(ggplot2)\n",
    "library(scatterpie)\n",
    "library(mapproj)\n",
    "library(fossil)\n",
    "library(MASS)"
   ]
  },
  {
   "cell_type": "markdown",
   "id": "1c415e97-1122-4fb6-8165-2f288426c4be",
   "metadata": {},
   "source": [
    "### Specify some paths & objects\n",
    "\n",
    "Then we will specify a number of file paths and read in a few files so that we don’t have to repeatedly hardcode file paths farther down in the notebook. This makes it easier to reuse the script on different datasets or the same data with different filtering schemes without having to search through the script for every time an absolute file path is specified."
   ]
  },
  {
   "cell_type": "code",
   "execution_count": null,
   "id": "02f3c22f-2f55-4ad6-9e44-e42d3ed77805",
   "metadata": {
    "tags": []
   },
   "outputs": [],
   "source": [
    "## Set up an object containing the path to the data\n",
    "data_dir <- \"/home/jupyter/RADseq_cloud_learn/ipyrad_out/ruber_reduced_denovo_outfiles\"\n",
    "\n",
    "## make a directory to put the output plots into\n",
    "##    this can be wherever you like, I'm putting it into the directory that contains\n",
    "##    my scripts and ipyrad output directories\n",
    "out_dir <- \"/home/jupyter/RADseq_cloud_learn/pop_struct_out\"\n",
    "if(!dir.exists(out_dir)){ # check if the directory  exists and return TRUE if it does not\n",
    "  dir.create(out_dir)   # create the directory if it does not exist\n",
    "}\n",
    "\n",
    "# Set up an object that contains the base file name of files in the output directory. \n",
    "#    Data files are all this basename with varying extensions\n",
    "#  we won't call this 'basename' because that is a function in R\n",
    "#  setting up the files this way allows us to easily run this script on another assembly \n",
    "#    without needing to edit file names everywhere they occur\n",
    "basefile <- \"ruber_reduced_denovo\"\n",
    "\n",
    "# Read in the geographic coordinates for plotting later\n",
    "coords <- read.csv(\"/home/jupyter/RADseq_cloud_learn/radseq_cloud/ruber_data/Localities.csv\", header=TRUE, row.names=NULL)\n",
    "\n",
    "\n",
    "\n",
    "####################################################################################\n",
    "## Set up paths to input files using the base file name specified above\n",
    "####################################################################################\n",
    "path_ugeno <- paste0(data_dir,\"/\", basefile,\".ugeno\")\n",
    "path_ustr <- paste0(data_dir,\"/\", basefile,\".ustr\")\n",
    "path_vcf <- paste0(data_dir,\"/\", basefile,\".vcf\")\n",
    "\n",
    "### Set up some colors for plotting farther down\n",
    "colors_2 <- c(\"red\", \"blue\") # colors for plotting 2 populations\n",
    "\n",
    "\n",
    "# Set the working directory to the output directory\n",
    "setwd(out_dir) # set directory as the output directory"
   ]
  },
  {
   "cell_type": "markdown",
   "id": "167ceea0-61b8-4d15-ba29-ac891ada1fd2",
   "metadata": {},
   "source": [
    "## Basic stats\n",
    "\n",
    "Let's start by reading in the data and calculating some very basic population genetic summary statistics.\n",
    "\n",
    "Read in the data from the vcf file, this should spit out some basic information about how many variants are in the dataset:"
   ]
  },
  {
   "cell_type": "code",
   "execution_count": null,
   "id": "68f7f080-7b18-4fa5-b91a-6455c8a23662",
   "metadata": {
    "tags": []
   },
   "outputs": [],
   "source": [
    "gendata_all <- read.vcfR(path_vcf) # read in all of the genetic data from the vcf file\n",
    "gendata <- vcfR2genind(gendata_all) # convert to genind format"
   ]
  },
  {
   "cell_type": "markdown",
   "id": "fae0866b-6a3d-423d-abcc-abc955e8b41e",
   "metadata": {},
   "source": [
    "Calculate observed and expected heterozygosity:\n"
   ]
  },
  {
   "cell_type": "code",
   "execution_count": null,
   "id": "10d16cbd-2b9a-4cde-8113-bbf9b5923847",
   "metadata": {
    "tags": []
   },
   "outputs": [],
   "source": [
    "# Use adegenet's summary function on the genind object\n",
    "genstats <- summary(gendata)\n",
    "\n",
    "# and make overlapping histograms\n",
    "hist(genstats$Hobs, breaks = 15)\n",
    "hist(genstats$Hexp, add = TRUE, col = scales::alpha('blue',.25))"
   ]
  },
  {
   "cell_type": "markdown",
   "id": "c6420856-7bd3-4a14-8708-f8f789ec1b38",
   "metadata": {},
   "source": [
    "You should see something like this:\n",
    "\n",
    "<img src=\"images/hobs_plot.png\" width=35% />\n",
    "\n",
    "Where the gray bars show our observed heterozygosity, which looks to be lower than expected heterozygosity (blue bars). Let's check the means of each to confirm:"
   ]
  },
  {
   "cell_type": "code",
   "execution_count": null,
   "id": "005db400-21ed-462b-933f-4423bc7e0fe6",
   "metadata": {
    "tags": []
   },
   "outputs": [],
   "source": [
    "# and look at the mean of each\n",
    "mean(genstats$Hobs)\n",
    "mean(genstats$Hexp)"
   ]
  },
  {
   "cell_type": "markdown",
   "id": "bbc54741-38f9-435b-80e0-5a62387c743d",
   "metadata": {},
   "source": [
    "Yep, you should see that we have low observed heterozygosity compared to expected. One likely reason for this is if there is population structure in the data. We'll test for this shortly."
   ]
  },
  {
   "cell_type": "markdown",
   "id": "f9b4c748-c3b0-41bf-b875-8b509f013247",
   "metadata": {},
   "source": [
    "## Principal components analysis\n",
    "\n",
    "\n",
    "Principal coordinates analysis, or PCA, is a common dimensionality reduction method to see how data cluster without assigning groups or number of groups a priori. We can apply this method to genetic as well as other types of data. We'll generally follow [documentation from the adegenet package to run PCA on our data](https://adegenet.r-forge.r-project.org/files/PRstats/practical-MVAintro.1.0.pdf):\n"
   ]
  },
  {
   "cell_type": "code",
   "execution_count": null,
   "id": "8e980112-bd1c-4aaf-9600-e0890f08a2a0",
   "metadata": {
    "tags": []
   },
   "outputs": [],
   "source": [
    "# calculate allele frequencies and replace NAs by imputing with mean values\n",
    "genfreq <- tab(gendata, freq=TRUE, NA.method=\"mean\")\n",
    "\n",
    "# Run PCA\n",
    "pca_res <- dudi.pca(genfreq, center = TRUE, scale = FALSE, scannf = FALSE, nf = 0)\n",
    "\n",
    "# plot eigenvalues\n",
    "barplot(pca_res$eig)"
   ]
  },
  {
   "cell_type": "markdown",
   "id": "f546efc0-47fd-4efd-b4c9-38e9737c94bb",
   "metadata": {},
   "source": [
    "The eigenvalues (height of the bars) for each of these compnents roughly corresponds to the amount of genetic variation explained by each principal component. General advice is to retain all components before they drop off sharply. \n",
    "\n",
    "<img src=\"images/eigen.png\" width=30% />\n",
    "\n",
    "\n",
    "\n",
    "We need to retain at least 2 to make the plots we want, so let's re-run our PCA keeping 2 axes and then plot it out.\n",
    "\n",
    "- Note that if you are running R somewhere other than a Jupyter notebook, like RStudio, you can run `pca_res <- dudi.pca(genfreq, center=TRUE, scale=FALSE)`  and it will show you a plot of the eigenvalues and ask you how many axes you want to retain interactively.\n",
    "\n",
    "- Also note that in the above code block, we imputed missing data values with mean values. This can be a fine strategy if you don't have too much missing data, but if you have lots of missing data, you will want to think carefully about how you impute missing data or use a method that can accomodate missing data without imputation."
   ]
  },
  {
   "cell_type": "code",
   "execution_count": null,
   "id": "2caa6b27-b5ca-48f3-9a97-c9b9a8ee1de7",
   "metadata": {
    "tags": []
   },
   "outputs": [],
   "source": [
    "# Run PCA retaining only 2 axes\n",
    "pca_res <- dudi.pca(df = genfreq, center = TRUE, scale = FALSE, scannf = FALSE, nf = 2)\n",
    "\n",
    "# plot it out\n",
    "plot(pca_res$li, pch = 19, cex = 2, col = \"blue\")"
   ]
  },
  {
   "cell_type": "markdown",
   "id": "024a442d-ca67-46df-95e1-8ed7def421cd",
   "metadata": {},
   "source": [
    "You should get something like this:\n",
    "\n",
    "<img src=\"images/PCA1.png\" width=40% />\n",
    "\n",
    "Looks like we probably have 2 distinct populations with some admixed individuals in between them. Next, we'll run a population clustering method to test this.\n",
    "\n",
    "\n",
    "<br>\n",
    "<br>\n",
    "<br>\n",
    "\n",
    "## Population structure using sNMF\n",
    "\n",
    "Population assignment is a critical step in many population genetic and phylogeographic studies. Most downstream methods for estimating gene flow, divergence, population size, and other interesting population parameters require populations to be specified by you. If you have population structure in your data that you have not adequately accounted for, this can bias many types of analyses. E.g., if you try to estimate the history of population size changes in a group of samples that you assume are a single population when they actually come from multiple discrete populations, this will bias your results.\n",
    "\n",
    "There are multiple ways to assign individuals to discrete populations. In some cases, you may have a priori ideas about population boundaries based on geographic discontinuities, differences in morphology across a species range, previous genetic data, or other sources of information. However, most of the time you will want to infer the number of populations and population membership of individuals directly from your data. This is essentially a classification problem: we are seeking to classify our whole set of genetic samples into a number of populations, often while also seeking to determine how many populations are present.\n",
    "\n",
    "One of the most commonly used programs for the inference of population structure is the aptly named program [Structure](https://web.stanford.edu/group/pritchardlab/structure.html). Structure is a model-based clustering method that seeks to split individuals into clusters such that linkage disequilibrium is minimized and Hardy-Weinberg equilibrium is maximized within each cluster. Structure is a Bayesian method that relies on Markov chain Monte Carlo (MCMC) sampling, and can thus become somewhat unwieldy with large datasets. Many fast alternatives have been developed since the advent of Structure, including [Admixture](https://dalexander.github.io/admixture/) which utilizes the same model from Structure, but in a faster maximum likelihood implementation. Other alternative approaches do not explicitly model Hardy-Weinberg equilibrium or linkage disequilibrium, including the sNMF approach implemented in the [LEA R package](http://membres-timc.imag.fr/Olivier.Francois/LEA/files/LEA_github.pdf) and DAPC as implemented in the [Adegenet R package](https://github.com/thibautjombart/adegenet). All of these methods often produce comparable results, which are often visualized as barplots of the estimated membership of each sample in one or more population clusters or as pie charts of the same information plotted onto a map as show in the figures below.\n",
    "\n",
    "<img src=\"images/Admix_barplot.png\" width=50% />\n",
    "<img src=\"images/admix_map.png\" width=50% />\n",
    "\n",
    "\n",
    "<br>\n",
    "\n",
    "If using DAPC to estimate population membership, it is important to note that in my experience, with large amounts of data, DAPC is very good at estimating which population a sample belongs to, but if a sample is admixed, it will be confidently placed into the population that it shares the most ancestry with. Barplots or pie charts of DAPC reflect the uncertainty in classification rather than amount of admixture, so care should be taken not to interpret DAPC plots the same way as plots from Strucure, Admixture, sNMF, etc.\n",
    "\n",
    "I like to use sNMF rather than Structure because it's very fast and produces results highly similar to Structure. sNMF can have trouble with samples that have high amounts of missing data, though, with high missing data causing individuals to appear to be admixed. In such cases, the estimates of admixture that you get out of Structure or Admixture may be better than those from sNMF.\n",
    "\n",
    "The snmf function requires a geno file as input, and requires that it has the extension .geno. We want to use only unlinked SNPs here (i.e., 1 SNP per RAD locus, assumed to be unlinked), and the geno file of unlinked snps from ipyrad has the extension ugeno, so we'll copy the file and give it a new extension:"
   ]
  },
  {
   "cell_type": "code",
   "execution_count": null,
   "id": "19d3f7c8-4632-41c5-8d16-0235c91e0ece",
   "metadata": {
    "tags": []
   },
   "outputs": [],
   "source": [
    "# Use a regular expression substitution to generate the new file name\n",
    "path_geno<-gsub(\".ugeno$\", \".u.geno\", path_ugeno)\n",
    "\n",
    "file.copy(path_ugeno, path_geno) # do the copying with the new name"
   ]
  },
  {
   "cell_type": "markdown",
   "id": "2d2ccba2-2e9d-4e87-a0a2-4d45581832ed",
   "metadata": {},
   "source": [
    "Now we’re ready to run sNMF. We’ll run this using 1 to 10 possible ancestral populations and evaluate the fit of these different numbers of populations (referred to as k values) to the data using the cross entropy criterion:"
   ]
  },
  {
   "cell_type": "code",
   "execution_count": null,
   "id": "4f95c8e1-e9a7-4a2d-b539-42c83af0b169",
   "metadata": {
    "tags": []
   },
   "outputs": [],
   "source": [
    "sink(tempfile()) # set the screen output to write to a temp file so that the notebook doesn't get too gummed up - delete to see all screen messages generated by sNMF\n",
    "\n",
    "obj.at <- snmf(input.file = path_geno,  # input file is the .geno format file\n",
    "               K = 1:10, # we will test for k=1 through 10\n",
    "               ploidy = 2, \n",
    "               entropy = T, # use the cross entropy criterion for assessing the best k \n",
    "               repetitions = 10, # Run 10 independent replicate analyses\n",
    "               CPU = 16, \n",
    "               project = \"new\", tolerance = 0.00001, iterations = 500)\n",
    "sink()"
   ]
  },
  {
   "cell_type": "markdown",
   "id": "55149960-44ea-43cd-99ba-93a203e81d82",
   "metadata": {},
   "source": [
    "Let’s make a plot of the cross-entropy plot"
   ]
  },
  {
   "cell_type": "code",
   "execution_count": null,
   "id": "190052ee-146c-4ad6-ba5d-e29d44b59a80",
   "metadata": {
    "tags": []
   },
   "outputs": [],
   "source": [
    "plot(obj.at, col = \"lightblue\", cex = 1.2, pch = 19)\n",
    "\n",
    "# We could alternately plot this to pdf, which you can then use for publication:\n",
    "pdf(\"snmf_cross_ent.pdf\", width = 8, height=5)\n",
    "plot(obj.at, col = \"lightblue\", cex = 1.2, pch = 19)\n",
    "dev.off()"
   ]
  },
  {
   "cell_type": "markdown",
   "id": "4cbe9f85-57aa-4866-8ccf-137cf86d82fe",
   "metadata": {},
   "source": [
    "You should see that the best fit model is one with 2 populations, as shown by the lowest cross-entropy score:\n",
    "\n",
    "<img src=\"images/cross_entropy.png\" width=37% />\n",
    "\n",
    "We can also look at a numeric summary of this result:"
   ]
  },
  {
   "cell_type": "code",
   "execution_count": null,
   "id": "3345ae71-0f2e-47c6-aeb2-072f21260935",
   "metadata": {
    "tags": []
   },
   "outputs": [],
   "source": [
    "outstats <- summary(obj.at)\n",
    "outstats"
   ]
  },
  {
   "cell_type": "markdown",
   "id": "34f20d05-de29-4ed4-9253-4b8eb9ff56c1",
   "metadata": {},
   "source": [
    "We can also confirm cross entropy values for K are consistent across runs and get the single best run for K=2.\n"
   ]
  },
  {
   "cell_type": "code",
   "execution_count": null,
   "id": "d11d0596-1605-4e39-b7a2-f410605dc652",
   "metadata": {
    "tags": []
   },
   "outputs": [],
   "source": [
    "ce <- cross.entropy(obj.at, K = 2) \n",
    "ce # pretty similar\n",
    "best.run <- which.min(ce) # find the run with the lowest cross validation error\n"
   ]
  },
  {
   "cell_type": "markdown",
   "id": "c5ba8930-6a09-4f53-a0f0-a00b3a3dcb39",
   "metadata": {},
   "source": [
    "Then we can get the snmf Q matrix from the best run at the best k, which is a matrix of the proportion of ancestry that each sample derives from each population."
   ]
  },
  {
   "cell_type": "code",
   "execution_count": null,
   "id": "4b9592f0-f703-43b0-b1e5-7a243135d306",
   "metadata": {
    "tags": []
   },
   "outputs": [],
   "source": [
    "qmatrix <- Q(obj.at, K = 2, run = best.run)\n",
    "admix <- as.data.frame(qmatrix)"
   ]
  },
  {
   "cell_type": "markdown",
   "id": "ef4d4733-9a25-4629-ab4d-243e9a2497e6",
   "metadata": {},
   "source": [
    "This will let us plot out these proportions to a map, which we'll do next with a little additional setup."
   ]
  },
  {
   "cell_type": "markdown",
   "id": "e51ce50b-18ed-473b-90a3-7068e6de77cb",
   "metadata": {},
   "source": [
    "## Plot population clusters to a map\n",
    "\n",
    "\n",
    "Start by sorting out the coordinates of each individual into the same order as the individuals in the genetic data and make sure that there is gepgraphic data for each individual in the genetic data\n",
    "\n"
   ]
  },
  {
   "cell_type": "code",
   "execution_count": null,
   "id": "8083df4a-750e-43f9-b425-7d484eb3dd41",
   "metadata": {
    "tags": []
   },
   "outputs": [],
   "source": [
    "# Get individual names for the genetic data from the vcf file, read in as gendata above - individuals will be in the same order in all genetic data files output by ipyrad\n",
    "\n",
    "ind_names <- rownames(gendata@tab)\n",
    "\n",
    "ind_names[which(!ind_names %in% coords[,\"Field.No.\"])] # check if there are any individuals not in the coordinates, there shouldn't be here, but if you're using your own data, this can help you catch any mislabeling/typos that frequently occur\n",
    "# match up the coordinates to the order of the individuals from snmf\n",
    "match_coords<-match(ind_names, coords[,\"Field.No.\"])\n",
    "snmf_coords<-coords[match_coords,]\n",
    "\n",
    "# get the coordinate and admix data into a single dataframe to plot out these proportions on a map\n",
    "for_pies <- cbind(snmf_coords, admix)"
   ]
  },
  {
   "cell_type": "markdown",
   "id": "a20bffb7-e86f-4200-866b-859a3663152c",
   "metadata": {},
   "source": [
    "Get out the mapping data for USA states and for Mexico and then combine them together\n"
   ]
  },
  {
   "cell_type": "code",
   "execution_count": null,
   "id": "083227da-b900-49e0-b9cc-6a0e9f34a634",
   "metadata": {
    "tags": []
   },
   "outputs": [],
   "source": [
    "states <- map_data(\"state\") # US states data\n",
    "mex <- map_data(\"worldHires\", \"Mexico\") # Mexico data\n",
    "mex$group <- mex$group + max(states$group) # have to do this to get rid of weird lines that show up otherwise because of groups in Mexico already being group numbers in states\n",
    "to_map <- rbind(states, mex) # combine these together\n"
   ]
  },
  {
   "cell_type": "markdown",
   "id": "411b11b2-b5ff-4e71-93fb-0cec334fa7b2",
   "metadata": {},
   "source": [
    "Use ggplot to plot scatterpies on a map using the objects we just set up:"
   ]
  },
  {
   "cell_type": "code",
   "execution_count": null,
   "id": "1f7499b9-a793-4e9f-b419-fbd30f7f745f",
   "metadata": {
    "tags": []
   },
   "outputs": [],
   "source": [
    "snmf_plot <- ggplot(to_map, aes(long, lat, group = group)) + # map out the US & Mexico\n",
    "  geom_polygon(data = to_map, fill = \"grey90\", color = \"black\", size = 0.2) + # make them polygons\n",
    "  geom_scatterpie(data = for_pies, aes(x=Longitude, y=Latitude, group = Field.No., r = 0.2), cols = grep(\"^V\", colnames(for_pies), value = TRUE), size = 0.1) + # plot the pies - use grep to get the column names that start with V, these are the admix proportions\n",
    "  scale_fill_manual(values = colors_2) + # fill with the colors we defines above\n",
    "  guides(fill=\"none\") + # get rid of the legend for admixture\n",
    "  theme_minimal() + # minimal theme\n",
    "  labs(title=paste0(basefile,\"_SNMF_K = 2\"), x =\"Longitude\", y = \"Latitude\") + # plot title and x & y labs\n",
    "  coord_map(\"moll\", xlim=c(-118,-109), ylim=c(22,34)) # Mollweide projection and set bounds of plot\n",
    "\n",
    "print(snmf_plot)\n",
    "\n",
    "\n",
    "# For publication, write it to a pdf\n",
    "pdf(file=paste0(basefile,\"_SNMF_plot.pdf\"), width=10, height=10)\n",
    "print(snmf_plot)\n",
    "dev.off()"
   ]
  },
  {
   "cell_type": "markdown",
   "id": "51b8eb92-34d0-4cb9-a5f9-606af5e2a67a",
   "metadata": {
    "tags": []
   },
   "source": [
    "You should get something that looks like this\n",
    "\n",
    "\n",
    "\n",
    "<img src=\"images/snmf_res.png\" width=50% />\n",
    "\n",
    "\n",
    "We can see a genetic break in southern Baja California with admixture where the populations contact and extending into the northern population."
   ]
  },
  {
   "cell_type": "markdown",
   "id": "c0e813b3-a9cd-4161-b695-1b45fff521d8",
   "metadata": {},
   "source": [
    "<br>\n",
    "<br>\n",
    "\n",
    "## Isolation by distance\n",
    "\n",
    "\n",
    "An additional critical consideration is that continuous spatial genetic structure across the range of a population can be highly problematic for population structure methods. One of the most common types of continuous spatial structure is isolation by distance (IBD), which occurs when dispersal is limited and individuals that are geographically closer are more related than individuals that are geographically distant. If IBD is strong enough, population structure methods can incorrectly infer the presence of multiple discrete populations with a gradient of admixture between the farthest individuals. This problem is reviewed well in [Bradburd et al. 2018](https://academic.oup.com/genetics/article-abstract/210/1/33/6088031) and they developed the method conStruct to simultaneously continuous and discrete spatial structure. I have had trouble getting it to work on my own data, so we won't use it in this tutorial. In any case, testing for isolation by distance and being aware of its potentially misleading effects can help to prevent incorrect inferences of population structure.\n",
    "\n",
    "Here, we’ll do a quick test and visualization of isolation by distance to try to determine if IBD is misleading our population structure analyses.\n",
    "\n",
    "We’ll start off by running a Mantel test, which correlates two different distance matrices. We’ll need to convert our DNA and geographic data into pairwise distances for this test:"
   ]
  },
  {
   "cell_type": "code",
   "execution_count": null,
   "id": "710f3248-d1f5-4123-8189-93a1bb22ecca",
   "metadata": {
    "tags": []
   },
   "outputs": [],
   "source": [
    "Dgen <- dist(gendata) # get the genetic distances\n",
    "Dgeo <- earth.dist(snmf_coords[,c(\"Longitude\", \"Latitude\")]) # get the geographic distances"
   ]
  },
  {
   "cell_type": "markdown",
   "id": "22b2fb56-baf4-4ac4-818e-6ff547ede167",
   "metadata": {
    "tags": []
   },
   "source": [
    "then run the test:"
   ]
  },
  {
   "cell_type": "code",
   "execution_count": null,
   "id": "5f779a76-58c0-4828-8028-dc3963323027",
   "metadata": {
    "tags": []
   },
   "outputs": [],
   "source": [
    "ibd <- mantel.randtest(Dgen,Dgeo) # run the mantel test"
   ]
  },
  {
   "cell_type": "markdown",
   "id": "e76c4d73-ecc9-4e6d-8dde-0ec9db21f88f",
   "metadata": {},
   "source": [
    "We can then visualize the result of our empirical estimate of isolation by distance compared to a permuted null distribution to see how significant our result is. We’ll also plot out a kernel density plot of genetic vs. geographic distances to visualize how these distances are associated."
   ]
  },
  {
   "cell_type": "code",
   "execution_count": null,
   "id": "8ebc869f-dda6-4ad5-8423-9e26e74e6749",
   "metadata": {
    "tags": []
   },
   "outputs": [],
   "source": [
    "# plot out the IBD significance\n",
    "plot(ibd, main=paste0(\"mantel p = \", ibd$pvalue))\n",
    "\n",
    "## make kernel density plot of genetic and geographic distances\n",
    "dens <- kde2d(as.numeric(Dgeo),as.numeric(Dgen), n=300)\n",
    "myPal <- colorRampPalette(c(\"white\",\"blue\",\"gold\", \"orange\", \"red\"))\n",
    "plot(Dgeo, Dgen, pch=20,cex=.5)\n",
    "image(dens, col=transp(myPal(300),.7), add=TRUE)\n",
    "abline(lm(as.numeric(Dgen)~as.numeric(Dgeo)))\n",
    "title(\"IBD plot\")\n",
    "\n",
    "\n",
    "## Below here, plot the same, but write it to a pdf\n",
    "\n",
    "## PDF of mantel output and a kernel density plot of genetic vs. geographic distance\n",
    "pdf(file=\"Mantel_KD.pdf\", width=8, height=8)\n",
    "plot(ibd, main=paste0(\"mantel p = \", ibd$pvalue)) # plot out the IBD significance\n",
    "\n",
    "## make kernel density plot of genetic and geographic distances\n",
    "plot(Dgeo, Dgen, pch=20,cex=.5)\n",
    "image(dens, col=transp(myPal(300),.7), add=TRUE)\n",
    "abline(lm(as.numeric(Dgen)~as.numeric(Dgeo)))\n",
    "title(\"IBD plot\")\n",
    "dev.off()\n"
   ]
  },
  {
   "cell_type": "markdown",
   "id": "f2d793ec-fc97-4ac3-8c1e-3276dce38938",
   "metadata": {},
   "source": [
    "Looking at the first plot:\n",
    "\n",
    "<img src=\"images/mantel.png\" width=38% />\n",
    "\n",
    "\n",
    "we can see that we have highly significant isolation by distance, with the lowest possible significance value given our number of permutations in the Mantel test (999 by default). The diamond-shaped point with the line indicates our empirical estimate, with the permutations shown as the gray histogram.\n",
    "\n",
    "<br>\n",
    "\n",
    "If we look at the second plot:\n",
    "\n",
    "<img src=\"images/kd_all.png\" width=55% />\n",
    "\n",
    "\n",
    "we can see how the geographic and genetic distances are correlated. What we see is a positive relationship, but with a major disjunction. This type of disjunction indicates the presence of some level of not fully continuous spatial genetic structure.\n",
    "\n",
    "If we had only pure IBD, we would expect a single, roughly linear cloud of points. We won't reproduce this here, but when I looked at only the northern population, i found a pattern that looks much more like pure IBD.\n",
    "\n",
    "\n",
    "<img src=\"images/kd_north.png\" width=55% />\n",
    "\n",
    "\n",
    "These plots can help reassure us that there is IBD in the data, but some kind of discrete structure across the whole species, which is what we are detecting with sNMF, etc., but no further discrete structure within the northern population.\n"
   ]
  },
  {
   "cell_type": "markdown",
   "id": "ad324aa4-28ac-4703-b395-de489924eddc",
   "metadata": {},
   "source": [
    "<br>\n",
    "\n",
    "## Grouped PCA\n",
    "\n",
    "You might also want to combine multiple abnalyses into a single figure to show concodrance (or discrodance) among the analyses. We'll finishby exploring how to color the points of the PCA we ran earlier by the populations clusters identified by sNMF.\n",
    "\n",
    "We'll use the `qmatrix` object that we extracted from the sNMF output (contains the proportions of ancestry from each cluster). We can iterate over the rows of this to find out which cluster each sample has the maximum membership in:"
   ]
  },
  {
   "cell_type": "code",
   "execution_count": null,
   "id": "a29dc187-c50b-46cd-b0ae-0842f77d343a",
   "metadata": {
    "tags": []
   },
   "outputs": [],
   "source": [
    "cluster <- apply(qmatrix, 1, which.max)"
   ]
  },
  {
   "cell_type": "markdown",
   "id": "bb3df0e2-48cd-465b-ace4-22517ff0e33e",
   "metadata": {},
   "source": [
    "Then we can use this to create a vector of colors for each point when we plot the PCA:"
   ]
  },
  {
   "cell_type": "code",
   "execution_count": null,
   "id": "8d9c5e76-27f9-42d3-a5a1-e03c4b0b6fff",
   "metadata": {
    "tags": []
   },
   "outputs": [],
   "source": [
    "PCA_cols <- cluster\n",
    "PCA_cols[PCA_cols == 1] <- \"red\"\n",
    "PCA_cols[PCA_cols == 2] <- \"yellow\"\n"
   ]
  },
  {
   "cell_type": "markdown",
   "id": "da49ad52-18a5-460e-831d-9035ce1fec9c",
   "metadata": {},
   "source": [
    "Plot it out, setting these as the background (`bg`) colors for outlined circle points:"
   ]
  },
  {
   "cell_type": "code",
   "execution_count": null,
   "id": "2ef9177c-fff2-4236-9dd5-d3e788745861",
   "metadata": {
    "tags": []
   },
   "outputs": [],
   "source": [
    "plot(pca_res$li, pch = 21, cex = 2, bg = PCA_cols)"
   ]
  },
  {
   "cell_type": "markdown",
   "id": "b8b0abc1-686f-4d94-af6c-561c80815766",
   "metadata": {},
   "source": [
    "Cool, looks like this corresponds to our two populations.\n",
    "\n",
    "<img src=\"images/PCA2.png\" width=38% />\n",
    "\n",
    "\n",
    "\n",
    "What if we want to check if the three individuals in the middle are the ones identified as highly admixed by sNMF? We can use an apply statement with a simple anonymous function to find the rows of the Q matrix for individuals that do not have more than 0.7 of their ancestry from any single cluster:"
   ]
  },
  {
   "cell_type": "code",
   "execution_count": null,
   "id": "179636db-8a38-474d-b765-591e21b6e6c4",
   "metadata": {
    "tags": []
   },
   "outputs": [],
   "source": [
    "high_admix <- apply(qmatrix, 1, function(x) max(x) < 0.7)"
   ]
  },
  {
   "cell_type": "markdown",
   "id": "b14e7d9a-c706-42e0-a45a-c588e34ff64b",
   "metadata": {
    "tags": []
   },
   "source": [
    "and then use this to index the `PCA_cols` object and swap out the colors of these individuals for orange, then re-plot:"
   ]
  },
  {
   "cell_type": "code",
   "execution_count": null,
   "id": "a818e4f3-9f83-4ccf-be61-453f2bc8fc0c",
   "metadata": {
    "tags": []
   },
   "outputs": [],
   "source": [
    "PCA_cols[high_admix] <- \"orange\"\n",
    "plot(pca_res$li, pch = 21, cex = 2, bg = PCA_cols)"
   ]
  },
  {
   "cell_type": "markdown",
   "id": "a300638c-8e43-42ab-8375-8e0df3ce7aeb",
   "metadata": {},
   "source": [
    "Looks like the admixed individuals are the intermediate ones, that's cool.\n",
    "\n",
    "\n",
    "<img src=\"images/PCA3.png\" width=38% />\n",
    "\n",
    "\n",
    "Since we only have two population clusters, we could also use ggplot and color points along a gradient depending on the value of ancestry in cluster 1. To do this, we'll make a single dataframe that has the PCA coordinates and the qmatrix values in it:"
   ]
  },
  {
   "cell_type": "code",
   "execution_count": null,
   "id": "da8c1247-978e-4e90-a930-6849bc655d93",
   "metadata": {
    "tags": []
   },
   "outputs": [],
   "source": [
    "pca_q <- cbind(pca_res$li, qmatrix)"
   ]
  },
  {
   "cell_type": "markdown",
   "id": "42c31b4a-5e7c-44d3-9225-89cb0f8a1d29",
   "metadata": {},
   "source": [
    "Then use ggplot to make a scatterplot colored along a gradient:"
   ]
  },
  {
   "cell_type": "code",
   "execution_count": null,
   "id": "531410e9-dceb-45b1-88ad-3b0c68c0ebb1",
   "metadata": {
    "tags": []
   },
   "outputs": [],
   "source": [
    "ggplot(pca_q, aes(x = Axis1, y = Axis2)) +\n",
    "  geom_point(aes(fill = V1), size = 6, shape = 21, color = \"black\") +\n",
    "  scale_fill_gradient(low = \"yellow\", high = \"red\")"
   ]
  },
  {
   "cell_type": "markdown",
   "id": "f9e3978f-23a8-46c9-9e55-ef7b2c231714",
   "metadata": {},
   "source": [
    "This gives us a better idea of how much admixture there is in each sample.\n",
    "\n",
    "\n",
    "<img src=\"images/PCA4.png\" width=38% />\n",
    "\n",
    "\n",
    "We could do more tweaking to make this look better, but we'll stop here.\n",
    "\n",
    "If we had more than just two populations, we wouldn't have a single gradient to color samples by. In that case, maybe you'd want to plot pies of admixture proportions on the PCA. Here is how you could do that, using similar code to when plotting pies on a map:"
   ]
  },
  {
   "cell_type": "code",
   "execution_count": null,
   "id": "ab906a0e-8d97-4572-a719-0069df885916",
   "metadata": {
    "tags": []
   },
   "outputs": [],
   "source": [
    "ggplot() +\n",
    "  geom_scatterpie(data = pca_q, aes(x = Axis1, y = Axis2, r = 0.35), cols = grep(\"^V\", colnames(pca_q), value = TRUE), size = 0.1) +\n",
    "  scale_fill_manual(values = colors_2) # fill with the colors we defines above\n",
    "\n",
    "\n",
    "# Same but plot to pdf\n",
    "pdf(file=\"PCA_pies.pdf\", width = 7, height = 5)\n",
    "ggplot() +\n",
    "  geom_scatterpie(data = pca_q, aes(x = Axis1, y = Axis2, r = 0.35), cols = grep(\"^V\", colnames(pca_q), value = TRUE), size = 0.1) +\n",
    "  scale_fill_manual(values = colors_2) # fill with the colors we defines above\n",
    "dev.off()  \n"
   ]
  },
  {
   "cell_type": "markdown",
   "id": "b9ad77f2-c4d6-4fd7-a23d-0f4aee0fbee8",
   "metadata": {},
   "source": [
    "\n",
    "<img src=\"images/PCA5.png\" width=38% />\n",
    "\n",
    "\n",
    "Again, we could alter the theme, legend, etc. to make this nicer, but we won't dig into that here."
   ]
  }
 ],
 "metadata": {
  "kernelspec": {
   "display_name": "R (Local)",
   "language": "R",
   "name": "ir"
  },
  "language_info": {
   "codemirror_mode": "r",
   "file_extension": ".r",
   "mimetype": "text/x-r-source",
   "name": "R",
   "pygments_lexer": "r",
   "version": "4.4.2"
  }
 },
 "nbformat": 4,
 "nbformat_minor": 5
}
