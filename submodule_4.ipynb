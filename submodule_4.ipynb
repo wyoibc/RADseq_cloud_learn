{
 "cells": [
  {
   "cell_type": "markdown",
   "id": "e80092f7-b32f-47b1-aedb-396754122dbd",
   "metadata": {},
   "source": [
    "# R processing and plotting of phylogentic output\n",
    "\n",
    "\n",
    "In the previous tutorial, we used IQ-TREE and SVDQuartets to estimate phylogenetic trees from the alignments we assembled with ipyrad. The output from these are text representations of phylogenies, which we'll need to plot to make sense of. There are various programs that be used to visualize trees. FigTree is a popular GUI-based, interactive program, but to make customizable, publication-quality phylogenetic graphics, it's hard to beat the options available in R.\n",
    "\n",
    "\n",
    "<br>\n",
    "<br>\n",
    "\n",
    "\n",
    "\n",
    "\n",
    "## Setup\n",
    "\n",
    "### Data download\n",
    "\n",
    "If you successfully ran through the previous tutorial (\"ipyrad_tutorial.ipynb\") in the same Google Cloud instance that you are running this notebook from, then you should have all necessary files to start this notebook.\n",
    "\n",
    "\n",
    "If you did not run through the previous tutorial or are running this tutorial from a fresh instance, you can download the ipyrad output we provide in the \"radseq_cloud\" Google bucket. Only uncomment and run these next lines if you want to download the ipyrad assembly."
   ]
  },
  {
   "cell_type": "code",
   "execution_count": null,
   "id": "105136b3-0247-4f52-b3bb-dcbd435989d7",
   "metadata": {},
   "outputs": [],
   "source": [
    "# system(\"gsutil -m cp -r gs://radseq_cloud/ .\", intern = TRUE)\n",
    "# system(\"mkdir -p ./ipyrad_out/ruber_reduced_denovo_outfiles/\")\n",
    "# system(\"cp ./radseq_cloud/ruber-ipyrad-out/* ipyrad_out/ruber_reduced_denovo_outfiles/\", intern = TRUE)"
   ]
  },
  {
   "cell_type": "markdown",
   "id": "1fb6e750-60f5-47ec-8247-a73a20b1ffa6",
   "metadata": {},
   "source": [
    "As in the population genetics tutorial, load up the packages we'll use. If you are not using the container we've provided, you'll need to install these yourself, as demonstrated in the R population genetics tutorial. \n"
   ]
  },
  {
   "cell_type": "code",
   "execution_count": null,
   "id": "e9f12a2d-e860-4f4a-ac31-6f9b169cd8bc",
   "metadata": {
    "tags": []
   },
   "outputs": [],
   "source": [
    "# load up some packages\n",
    "library(ape)\n",
    "library(phytools)\n",
    "library(LEA)\n",
    "library(vcfR)\n",
    "library(plotrix)\n",
    "\n"
   ]
  },
  {
   "cell_type": "markdown",
   "id": "61132f4e-613b-4458-aeae-ddd4e81a4bb8",
   "metadata": {},
   "source": [
    "## Plotting IQ-TREE output\n",
    "\n",
    "\n",
    "As usual, let's set up some objects that contain paths so these aren't hard coded into functions and the script can be easily modified for other datasets."
   ]
  },
  {
   "cell_type": "code",
   "execution_count": null,
   "id": "c22277f9-6ea2-4bc8-b664-b1048ea38849",
   "metadata": {
    "tags": []
   },
   "outputs": [],
   "source": [
    "# Load up the paths we need\n",
    "\n",
    "iq_file <- \"/home/jupyter/RADseq_cloud_learn/iqtree_out/ruber.treefile\"\n",
    "coords <- read.csv(\"/home/jupyter/RADseq_cloud_learn/radseq_cloud/ruber_data/Localities.csv\", header=TRUE, row.names=NULL) # path to the geographic coordinates for the samples\n"
   ]
  },
  {
   "cell_type": "markdown",
   "id": "d23f04ad-1195-4d37-8bb9-7137055517e0",
   "metadata": {},
   "source": [
    "Then we can start by using some functions from the `ape` package to read and plot the tree:"
   ]
  },
  {
   "cell_type": "code",
   "execution_count": null,
   "id": "ccd9c224-e826-40d0-af93-ed522a9daa0d",
   "metadata": {
    "tags": []
   },
   "outputs": [],
   "source": [
    "#plot IQTree\n",
    "\n",
    "iq_tree <- read.tree(iq_file)\n",
    "\n",
    "# Use functions from ape to plot the tree\n",
    "\n",
    "plot.phylo(iq_tree) # plot the tree"
   ]
  },
  {
   "cell_type": "markdown",
   "id": "d13ccf80-1043-447b-acfb-3e68036af705",
   "metadata": {},
   "source": [
    "As is, this isn't easy to interpret:\n",
    "\n",
    "<img src=\"images/iq_tree1.png\" width=35% />\n",
    "\n",
    "\n",
    "\n",
    "To start, IQtree generates an unrooted tree, so we need to do some manipulation to put the root where it should be. This will be true of most phylogenetic inference programs if they do not include a clock model.\n",
    "\n",
    "Usually, we would include outgroup taxa in the tree to know where the root goes. Since we removed all of the outgroups in one of our ipyrad branching steps, we'll root the tree based on the published tree from [Harrington et al. 2018](https://onlinelibrary.wiley.com/doi/full/10.1111/jbi.13114)."
   ]
  },
  {
   "cell_type": "markdown",
   "id": "6eb7e0b3-9074-4257-9879-a79de6773712",
   "metadata": {},
   "source": [
    "We want the root to separate the tree into two clades: \n",
    "\n",
    "- One that contains `SD Field 0666`, `SD Field 0598`, `SD Field 0201` and other samples from this node\n",
    "and\n",
    "- One that contains `SD Field 0642`, `SD Field 0491`, `SD Field 0255` and other samples from this node\n",
    "\n",
    "The easiest way to do this is going to be to find the node that specifies one of these clades and place the root there. We'll use an `ape` package function to find the node representing the most recent common ancestor (MRCA) of `SD_Field_0642` and `SD_Field_0255` and then root on that node."
   ]
  },
  {
   "cell_type": "code",
   "execution_count": null,
   "id": "c8cf4471-9892-4c7c-8d5d-25ede831a75d",
   "metadata": {
    "tags": []
   },
   "outputs": [],
   "source": [
    "# Specify the taxa for the \"outgroup\"\n",
    "taxa <- c(\"SD_Field_0642\", \"SD_Field_0255\")\n",
    "\n",
    "# Get the MRCA outgroup node\n",
    "mrca_node <- getMRCA(iq_tree, taxa)\n",
    "\n",
    "# Root the tree at the MRCA outgroup node\n",
    "rooted_tree <- root(iq_tree, node = mrca_node, resolve.root = TRUE)\n",
    "\n",
    "# Plot the rooted tree\n",
    "plot(rooted_tree)\n",
    "edgelabels() # add labels on the edges (branches) to get their indexes for the next step."
   ]
  },
  {
   "cell_type": "markdown",
   "id": "81fd90fe-3be2-43a1-9635-1e4a6289ffa4",
   "metadata": {},
   "source": [
    "This is rooted correctly now, but we have a branch with length zero at the base of the tree. This is because there is no information about how to distribute the branch length at the root between the two daughter clades, and so the plotting defaults to just zero for the outgroup that was used to root.\n",
    "\n",
    "\n",
    "<img src=\"images/iq_tree2.png\" width=50% />\n",
    "\n",
    "\n",
    "We used `edgelabels()` in that last plot to get the indexes of each branch so that we can do some manual manipulation to make this prettier and distribute the length of the branch that connects the ingroup to the outgroup between the two of them. We can do this by identifying the branches we want to alter, and then assigning half of the branch length from the ingroup to the branch to the outgroup.\n",
    "\n",
    "For me, the branch that unites SD Field 0642 with the rest of its clade is 30, and the node that defines the other clade at the root is 1. If your branches are different, you'll need to adjust these."
   ]
  },
  {
   "cell_type": "code",
   "execution_count": null,
   "id": "8864049f-d28a-48c1-8c3f-714682f4f034",
   "metadata": {
    "tags": []
   },
   "outputs": [],
   "source": [
    "# take half of the length of edge 1 and assign it to the length of edge 30, which is zero right now\n",
    "\n",
    "\n",
    "# Get the current length of edge 1\n",
    "edge_1_length <- rooted_tree$edge.length[1]\n",
    "\n",
    "# Halve the length of edge 1\n",
    "new_edge_1_length <- edge_1_length / 2\n",
    "\n",
    "# Get the current length of edge 30\n",
    "edge_30_length <- rooted_tree$edge.length[30]\n",
    "\n",
    "# Assign the new halved length to edge 1\n",
    "rooted_tree$edge.length[1] <- new_edge_1_length\n",
    "\n",
    "# Add the remaining length to edge 30\n",
    "rooted_tree$edge.length[30] <- edge_30_length + (edge_1_length - new_edge_1_length)\n",
    "\n",
    "\n",
    "plot(rooted_tree)\n"
   ]
  },
  {
   "cell_type": "markdown",
   "id": "3eb17c64-7413-42fe-b267-ce2d6b8d6b5c",
   "metadata": {},
   "source": [
    "That looks much better and doesn't make it look like we have a polytomy at the root of the tree.\n",
    "\n",
    "<img src=\"images/iq_tree3.png\" width=38% />\n",
    "\n",
    "Next, we can add the support values to the nodes of the tree (bootstraps and SH-aLRT) so that we know how much confidence we should have in the accuracy of the inferred clades. There is more detail on these metrics of tree support and links to the papers that describe the SH-aLRT in the IQ-TREE introductory tutorial [here](http://www.iqtree.org/doc/Tutorial)."
   ]
  },
  {
   "cell_type": "code",
   "execution_count": null,
   "id": "10ba860e-aa7d-463c-a503-52580b4fd9f8",
   "metadata": {
    "tags": []
   },
   "outputs": [],
   "source": [
    "# Increase plot size for Jupyter\n",
    "options(repr.plot.width = 15, repr.plot.height = 11)\n",
    "\n",
    "plot(rooted_tree)\n",
    "nodelabels(text = rooted_tree$node.label, adj = c(1.05, 1.5), cex = 0.7, frame = \"none\")"
   ]
  },
  {
   "cell_type": "markdown",
   "id": "6a1439ac-d227-4e71-bff1-47900b0a4f4e",
   "metadata": {},
   "source": [
    "This should allow us to see the support values nicely. Note that the root just has \"Root\" at it, because it contains all the taxa and there is nothing to assess support for.\n",
    "\n",
    "<img src=\"images/iq_tree4.png\" width=70% />\n",
    "\n",
    "\n",
    "<br>\n",
    "<br>\n",
    "<br>\n",
    "\n",
    "\n",
    "## Plotting a tree to a map\n",
    "\n",
    "\n",
    "We are often interested in visualizing how clades in the phylogenetic tree align with geographic regions or barriers. Plotting the tree onto a map is one convenient way of doing that for small to moderate phylogenies. We'll use the `phylo.to.map` function from the package `phytools` to plot our tree onto a map.\n",
    "\n",
    "\n"
   ]
  },
  {
   "cell_type": "code",
   "execution_count": null,
   "id": "35dba240-7425-4b0d-a6e9-fe3472d9a2f1",
   "metadata": {
    "tags": []
   },
   "outputs": [],
   "source": [
    "# some set up \n",
    "\n",
    "# Get the coordinates for just the individuals we want to plot and put in the same order as the tip labels - we read in the coordinates up top when we read in the tree file\n",
    "\n",
    "ind_names <- rooted_tree$tip.label # get individual names from the tree\n",
    "ind_names[which(!ind_names %in% coords[,\"Field.No.\"])] # check if there are any individuals not in the coordinates\n",
    "\n",
    "\n",
    "# match up the coordinates to the order of the individuals in the tree\n",
    "match_coords <- match(ind_names, coords[,\"Field.No.\"]) # get index of the coords that are in ind_names\n",
    "tree_coords <- coords[match_coords,] # get just the coordinates for individuals in the tree in the order they show up in the tree\n",
    "rownames(tree_coords) <- tree_coords[, \"Field.No.\"] # for phylo.to.map, we need the individual names from the tree to be the row names of the coordinates, not a column\n",
    "tree_coords <- tree_coords[, c(\"Latitude\", \"Longitude\")] # make the tree_coords object only 2 columns, Latitude and Longitude"
   ]
  },
  {
   "cell_type": "code",
   "execution_count": null,
   "id": "46dcb3b2-c25f-4f2e-87f2-b695463311f4",
   "metadata": {
    "tags": []
   },
   "outputs": [],
   "source": [
    "# Plot the tree to the map\n",
    "\n",
    "phylo.to.map(rooted_tree, tree_coords)"
   ]
  },
  {
   "cell_type": "markdown",
   "id": "8513dc9d-7c36-41be-bb4f-38a68156f301",
   "metadata": {},
   "source": [
    "Because our samples are on more of a north-south gradient than east-west, this default view isn't the best. \n",
    "\n",
    "\n",
    "<img src=\"images/phymap1.png\" width=30% />\n",
    "\n",
    "<br>\n",
    "<br>\n",
    "\n",
    "We can edit some options in `phylo.to.map` and make it much nicer:"
   ]
  },
  {
   "cell_type": "code",
   "execution_count": null,
   "id": "bad190a9-06ea-4580-a1ae-69b5c49d1ef7",
   "metadata": {
    "tags": []
   },
   "outputs": [],
   "source": [
    "phylo.to.map(rooted_tree, tree_coords, direction = \"rightwards\", lty = \"solid\", colors = \"black\")"
   ]
  },
  {
   "cell_type": "markdown",
   "id": "434a1d51-62e6-46dc-866e-5b829386ecce",
   "metadata": {},
   "source": [
    "There is a lot of other customization we could do here, but this is good enough for now. \n",
    "\n",
    "\n",
    "<img src=\"images/phymap2.png\" width=50% />\n",
    "\n",
    "\n",
    "Feel free to look at the arguments to `phylo.to.map` and play around with them until you are satisfied.\n",
    "\n",
    "\n",
    "<br>\n",
    "<br>\n",
    "\n",
    "\n",
    "### Adding SNMF results\n",
    "\n",
    "\n",
    "We can also add in pie charts to show the population membership as inferred by SNMF from our previous tutorial to show multiple results on the same figure. Because we're using base R to plot this map, we'll have to use a different appraoch to plotting pies here instead of the `ggplot`/`scatterpie` approach we used when plotting SNMF pies on maps before."
   ]
  },
  {
   "cell_type": "code",
   "execution_count": null,
   "id": "abb93bec-9904-479e-a7dc-a8d04c392fbe",
   "metadata": {
    "tags": []
   },
   "outputs": [],
   "source": [
    "# load up SNMF project\n",
    "\n",
    "# set the path to the snmf project\n",
    "snmf_proj_path <- \"/home/jupyter/RADseq_cloud_learn/ipyrad_out/ruber_reduced_denovo_outfiles/ruber_reduced_denovo.u.snmfProject\"\n",
    "\n",
    "\n",
    "# laod the snmf project\n",
    "obj.at <- load.snmfProject(snmf_proj_path)\n",
    "\n",
    "\n",
    "# set a value of k, the number of clusters, we want to use 2 here\n",
    "k <- 2\n",
    "\n",
    "\n",
    "# confirm cross entropy values for K are consist. across runs\n",
    "ce <- cross.entropy(obj.at, K = k) \n",
    "best.run <- which.min(ce) # find the run with the lowest cross validation error\n",
    "    \n",
    "## Get the snmf Q matrix from the best run at the best k\n",
    "qmatrix <- Q(obj.at, K = k, run = best.run)\n",
    "admix <- as.data.frame(qmatrix)\n",
    "\n",
    "\n",
    "# read in the vcf file to get the order of the individual names from ipyrad to make sure we can match these up to the SNMF qmatrix correctly\n",
    "path_vcf <- \"/home/jupyter/RADseq_cloud_learn/ipyrad_out/ruber_reduced_denovo_outfiles/ruber_reduced_denovo.vcf\"\n",
    "\n",
    "gendata_all <- read.vcfR(path_vcf) # read in all of the genetic data from the vcf file\n",
    "gendata <- vcfR2genind(gendata_all) # convert to genind format\n",
    "ind_names <- rownames(gendata@tab)\n",
    "\n",
    "match_coords <- match(ind_names, coords[,\"Field.No.\"])\n",
    "snmf_coords <- coords[match_coords,]\n",
    "\n",
    "# get the coordinate and admix data into a single dataframe to plot out these proportions on a map\n",
    "for_pies <- cbind(snmf_coords, admix)\n"
   ]
  },
  {
   "cell_type": "code",
   "execution_count": null,
   "id": "e44f97d0-dd3a-4493-a335-a597fbc4d118",
   "metadata": {
    "tags": []
   },
   "outputs": [],
   "source": [
    "# The tree map\n",
    "phylo.to.map(rooted_tree, tree_coords, direction = \"rightwards\", lty = \"solid\", colors = \"black\")\n",
    "\n",
    "# Add pies\n",
    "for (i in 1:nrow(for_pies)) {\n",
    "  x <- for_pies$Longitude[i] # set the longitude\n",
    "  y <- for_pies$Latitude[i] # set the latitude\n",
    "  proportions <- c(for_pies$V1[i], for_pies$V2[i])  # Proportions from the admixture matrix\n",
    "  pie_colors <- c(\"red\", \"blue\")  # set colors\n",
    "  \n",
    "  # Use floating.pie to add the pie chart at each coordinate\n",
    "  floating.pie(xpos = x, ypos = y, radius = 0.1, x = proportions, col = pie_colors)\n",
    "}"
   ]
  },
  {
   "cell_type": "markdown",
   "id": "e72f15f9-d9f6-4ff7-8b38-b546d9d4864d",
   "metadata": {},
   "source": [
    "This looks pretty good and conveys a lot of information, including the concordance between the phylogenetic tree and the SNMF population clustering results. \n",
    "\n",
    "\n",
    "\n",
    "<img src=\"images/phymap3.png\" width=60% />\n",
    "\n",
    "\n",
    "\n",
    "To really get the spacing right and a figure that's ready for publication, we can plot it to pdf that you can open and download as you like:"
   ]
  },
  {
   "cell_type": "code",
   "execution_count": null,
   "id": "001fd16c-9791-45fe-a83f-dbe610fb0a75",
   "metadata": {
    "tags": []
   },
   "outputs": [],
   "source": [
    "# Plot it to a pdf now that it's dialed in:\n",
    "\n",
    "pdf(file = \"pie_map.pdf\", width = 14, height = 10) # open the pdf plotting device\n",
    "\n",
    "phylo.to.map(rooted_tree, tree_coords, direction = \"rightwards\", lty = \"solid\", colors = \"black\")\n",
    "\n",
    "# Add pies using floating.pie() with add = TRUE\n",
    "for (i in 1:nrow(for_pies)) {\n",
    "  x <- for_pies$Longitude[i]\n",
    "  y <- for_pies$Latitude[i]\n",
    "  proportions <- c(for_pies$V1[i], for_pies$V2[i])  # Proportions from the admixture matrix\n",
    "  pie_colors <- c(\"red\", \"blue\")  # Modify colors based on your data\n",
    "  \n",
    "  # Use floating.pie to add the pie chart at each coordinate\n",
    "  floating.pie(xpos = x, ypos = y, radius = 0.1, x = proportions, col = pie_colors)\n",
    "}\n",
    "dev.off() # close the plotting device"
   ]
  },
  {
   "cell_type": "markdown",
   "id": "ef94577a-8a87-4215-ba64-a3da496b0e24",
   "metadata": {},
   "source": [
    "<br>\n",
    "<br>\n",
    "<br>\n",
    "\n",
    "## SVDQuartets\n",
    "\n",
    "After an initial step, we can do all the same plotting with the SVDQuartets tree as we did for IQ-TREE, but we won't bother to repeat all of the same things.\n",
    "\n",
    "\n",
    "\n",
    "Before we plot out the tree, we have to do some special manipulation with our SVDQuartets tree to get the bootstrap values at the nodes.\n",
    "\n",
    "We'll go through this interactively here, but I have also included a script `bootanno.R` which can be run from the command line non-interactively like so: `Rscript bootanno.R filename.besttree.tre filename.svdqboots.tre`. Where the arguments are the file containing the best tree and the file containing the bootstrap trees, in that order."
   ]
  },
  {
   "cell_type": "code",
   "execution_count": null,
   "id": "be5ac61a-353c-418a-be01-4ba9a9fd2acb",
   "metadata": {
    "tags": []
   },
   "outputs": [],
   "source": [
    "#specify file paths to the best tree and set of bootstrap trees from SVDQuartets\n",
    "best.tree.file <- \"/home/jupyter/RADseq_cloud_learn/svdq_out/ruber_reduced_denovo.besttree.tre\" # best tree from SVDQ\n",
    "boot.file <-  \"/home/jupyter/RADseq_cloud_learn/svdq_out/ruber_reduced_denovo.svdqboots.tre\" #file of bootstrap trees from PAUP\n",
    "\n",
    "\n",
    "# read the best tree and bootstrap trees into R\n",
    "boottrees <- read.nexus(boot.file) \n",
    "besttree<- read.nexus(best.tree.file)\n",
    "\n",
    "# Calculate the bootstrap proportions for each node in the best tree\n",
    "boot <- prop.clades(besttree, boottrees) #calculates bootstrap support on each branch (not nodes because it's unrooted)\n",
    "boot[is.na(boot)] <- 0 #replace NAs with 0\n",
    "numboots <- length(boottrees) # nreps of bootstrapping\n",
    "bootprop <- round((boot/numboots)*100, digits = 2) # gives a percentage of bootstrap support\n",
    "\n",
    "besttree$node.label <- bootprop #p ut bootstrap values on nodes of the tree\n",
    "write.tree(besttree, file=gsub(\".tre$\", \"_boot.tre\", best.tree.file)) #w rite new tree file with same name as the best tree with \"_boot.tre\" added to end\n",
    " "
   ]
  },
  {
   "cell_type": "markdown",
   "id": "540f5bd8-9084-4de6-bf5a-f165383e35ea",
   "metadata": {},
   "source": [
    "Now that we have the best tree with bootstraps added onto it, we can plot this out. We could plot this tree to a map and add the pies just the same as we did with the tree from IQtree, but we'll skip that since we already demonstrated it."
   ]
  },
  {
   "cell_type": "code",
   "execution_count": null,
   "id": "904821fe-1d27-428d-b922-28f11856259b",
   "metadata": {
    "tags": []
   },
   "outputs": [],
   "source": [
    "# path to best tree with boostraps file:\n",
    "svdq_file <- \"/home/jupyter/RADseq_cloud_learn/svdq_out/ruber_reduced_denovo.besttree_boot.tre\"\n",
    "\n",
    "\n",
    "#plot the SVDQuartets tree\n",
    "\n",
    "svdq_tree <- read.tree(svdq_file)\n",
    "\n",
    "# Use functions from ape to plot the tree\n",
    "\n",
    "plot.phylo(svdq_tree) # plot the tree"
   ]
  },
  {
   "cell_type": "markdown",
   "id": "136a8538-c88e-4394-ac62-6dddd6322398",
   "metadata": {},
   "source": [
    "Note a couple of important things:\n",
    "\n",
    "\n",
    "<img src=\"images/svdq1.png\" width=40% />\n",
    "\n",
    "\n",
    "\n",
    "1. This tree does not have branch lengths, and so they are displayed arbitrarily. This is because SVDQuartets does not use a substitution model like IQTree does, and so does not estimate branch lengths in substitutions.\n",
    "\n",
    "2. Our tree is again unrooted, and we'll have to root this like we did with the IQtree."
   ]
  },
  {
   "cell_type": "code",
   "execution_count": null,
   "id": "6b60e593-ca8e-499b-b219-5c8dcc9c6a64",
   "metadata": {
    "tags": []
   },
   "outputs": [],
   "source": [
    "# Specify the taxa for the \"outgroup\"\n",
    "taxa <- c(\"SD_Field_0642\", \"SD_Field_0255\")\n",
    "\n",
    "# Get the MRCA node\n",
    "mrca_node <- getMRCA(svdq_tree, taxa)\n",
    "\n",
    "# Root the tree at the MRCA node\n",
    "rooted_svdqtree <- root(svdq_tree, node = mrca_node, resolve.root = TRUE)\n",
    "\n",
    "\n",
    "# Plot the rooted tree\n",
    "plot(rooted_svdqtree)\n",
    "# add on the bootstraps\n",
    "nodelabels(text = rooted_svdqtree$node.label, adj = c(1.1, 1.7), cex = 0.7, frame = \"none\")"
   ]
  },
  {
   "cell_type": "markdown",
   "id": "85c50dcc-84ef-441a-932d-32ed8eb46de5",
   "metadata": {},
   "source": [
    "Notice that because there are no branch lengths, we didn't have to deal with editing the length of the branch at the root to distribute it among both daughter clades. We see that both trees have relatively low bootstrap support for many nodes, other than the major northern and southern groups of individuals. This is because within each clade, individuals are members of a population cluster that share genes, and are therefore not actually organized into a hierarchical tree structure.\n",
    "\n",
    "\n",
    "<img src=\"images/svdq2.png\" width=70% />\n",
    "\n",
    "\n",
    "\n",
    "If we want to see how the two trees differ from each (or don't), we can plot them facing each other with lines connecting the same individual in each tree using a phytools function:\n"
   ]
  },
  {
   "cell_type": "code",
   "execution_count": null,
   "id": "4c4d2590-4545-442c-9693-8be14834b296",
   "metadata": {
    "tags": []
   },
   "outputs": [],
   "source": [
    "cophy <- cophylo(rooted_tree, rooted_svdqtree)\n",
    "plot(cophy)"
   ]
  },
  {
   "cell_type": "markdown",
   "id": "47eef884-d7a2-479b-bf06-c473b8f93d6c",
   "metadata": {},
   "source": [
    "The trees are overall very similar, and really only differ in areas that have low support values, as we've plotted on the individual trees. \n",
    "\n",
    "<img src=\"images/cophy1.png\" width=70% />\n",
    "\n",
    "\n",
    "\n",
    "<br>\n",
    "<br>\n",
    "<br>\n",
    "\n",
    "We can also plot those values to make this clearer."
   ]
  },
  {
   "cell_type": "code",
   "execution_count": null,
   "id": "ef6c0661-b3a4-4d8e-b276-fbe26293fbd9",
   "metadata": {
    "tags": []
   },
   "outputs": [],
   "source": [
    "plot(cophy)\n",
    "\n",
    "## show support values at node labels:\n",
    "nodelabels.cophylo(cophy$trees[[1]]$node.label, cex = 0.7,\n",
    "    frame = \"none\", adj = c(1.1, 1.5))\n",
    "nodelabels.cophylo(cophy$trees[[2]]$node.label, cex = 0.7,\n",
    "    frame = \"none\",adj = c(-0.4, 1.5), which=\"right\")\n"
   ]
  },
  {
   "cell_type": "code",
   "execution_count": null,
   "id": "03116c92-c74f-426d-aec1-31b13a8b6b3d",
   "metadata": {
    "tags": []
   },
   "outputs": [],
   "source": [
    "# plot the same to pdf\n",
    "\n",
    "pdf(file = \"../cophy.pdf\", width = 20, height = 13)\n",
    "\n",
    "plot(cophy)\n",
    "\n",
    "## show support values at node labels:\n",
    "nodelabels.cophylo(cophy$trees[[1]]$node.label, cex = 0.7,\n",
    "    frame = \"none\", adj = c(1.1, 1.5))\n",
    "nodelabels.cophylo(cophy$trees[[2]]$node.label, cex = 0.7,\n",
    "    frame = \"none\",adj = c(-0.4, 1.5), which=\"right\")\n",
    "\n",
    "dev.off()\n",
    "\n"
   ]
  },
  {
   "cell_type": "markdown",
   "id": "289c29ba-b7d8-4e01-b138-7fa9f192c86f",
   "metadata": {},
   "source": [
    "\n",
    "<img src=\"images/cophy2.png\" width=70% />\n",
    "\n",
    "\n",
    "\n",
    "\n",
    "These are only a few of the ways to plot trees. There are many other ways to plot trees and visualize data on trees. There are many other functions in Phytools that allow for plotting phylogenetic trees. There is also the pakcage `ggtree`, which extends the fucntionality of the popular `ggplot2` package that we used in the popualation genetics tutorial to plot maps with pie charts. "
   ]
  }
 ],
 "metadata": {
  "kernelspec": {
   "display_name": "R (Local)",
   "language": "R",
   "name": "ir"
  },
  "language_info": {
   "codemirror_mode": "r",
   "file_extension": ".r",
   "mimetype": "text/x-r-source",
   "name": "R",
   "pygments_lexer": "r",
   "version": "4.4.2"
  }
 },
 "nbformat": 4,
 "nbformat_minor": 5
}
